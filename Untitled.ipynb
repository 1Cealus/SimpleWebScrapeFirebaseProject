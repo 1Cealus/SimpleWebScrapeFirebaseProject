{
 "cells": [
  {
   "cell_type": "code",
   "execution_count": null,
   "id": "34ef6411",
   "metadata": {},
   "outputs": [],
   "source": [
    "import firebase_admin\n",
    "from firebase_admin import credentials\n",
    "\n",
    "cred = credentials.Certificate(r\"E:\\OtherStuff\\University\\SeriousMDProject\\simple-firebase-project-ca464-firebase-adminsdk-l7ls2-055ab19f91.json\")\n",
    "firebase_admin.initialize_app(cred)"
   ]
  },
  {
   "cell_type": "code",
   "execution_count": 3,
   "id": "60297677",
   "metadata": {},
   "outputs": [
    {
     "name": "stdout",
     "output_type": "stream",
     "text": [
      "Works\n",
      "headline_1 Ukraine faces retreat without US aid, Zelensky says\n",
      "headline_2 Video appears to show Ukrainian drone strike on Russian oil refinery\n",
      "headline_5 WSJ makes powerful front-page statement as Evan Gershkovich marks one year in Russian prison\n",
      "headline_0 ‘We haven’t seen a situation like this since 1945,’ warns Donald Tusk as Russia’s invasion of Ukraine upends post-Cold War geopolitical order\n",
      "\n",
      "\n",
      "headline_0 ‘We haven’t seen a situation like this since 1945,’ warns Donald Tusk as Russia’s invasion of Ukraine upends post-Cold War geopolitical order\n",
      "headline_1 Ukraine faces retreat without US aid, Zelensky says\n",
      "headline_2 Video appears to show Ukrainian drone strike on Russian oil refinery\n",
      "headline_3 The heroism of Ukraine and the nihilism of Mike Johnson\n",
      "headline_4 Central Asian migrants face xenophobic backlash in Russia after Moscow terror attack\n",
      "headline_5 WSJ makes powerful front-page statement as Evan Gershkovich marks one year in Russian prison\n",
      "headline_6 Russia protects North Korea in the UN with veto of resolution to investigate sanction violations\n"
     ]
    }
   ],
   "source": [
    "import requests\n",
    "from bs4 import BeautifulSoup\n",
    "import firebase_admin\n",
    "from firebase_admin import credentials\n",
    "from firebase_admin import firestore\n",
    "\n",
    "db = firestore.client()\n",
    "\n",
    "response = requests.get('https://edition.cnn.com/')\n",
    "if response.status_code == 200:\n",
    "    cnn_web_content = response.text\n",
    "    print(\"Works\")\n",
    "    \n",
    "    soup = BeautifulSoup(cnn_web_content, 'html.parser')\n",
    "    stack_condensed_items = soup.find(\"div\", class_=\"stack_condensed__items\")\n",
    "    headline_texts = stack_condensed_items.find_all(\"span\", class_=\"container__headline-text\")\n",
    "\n",
    "    for idx, headline_text in enumerate(headline_texts):\n",
    "        doc_ref = db.collection('headlines').document(f'headline_{idx}')\n",
    "        doc_ref.set({\n",
    "            'headline': headline_text.text.strip()\n",
    "        })\n",
    "\n",
    "else:\n",
    "    print(\"Failed\")\n",
    "\n",
    "#Print Headlines that has the word Ukraine    \n",
    "ukraine_headlines = db.collection('headlines').where('headline', '>=', 'Ukraine').get()\n",
    "    \n",
    "for doc in ukraine_headlines:\n",
    "    print(doc.id, doc.to_dict()['headline'])\n",
    "    \n",
    "print(\"\\n\")\n",
    "\n",
    "#Print everything inside the headline collection instead\n",
    "all_headlines = db.collection('headlines').get()\n",
    "for doc in all_headlines:\n",
    "    print(doc.id, doc.to_dict()['headline'])"
   ]
  },
  {
   "cell_type": "code",
   "execution_count": null,
   "id": "12fc07a7",
   "metadata": {},
   "outputs": [],
   "source": []
  }
 ],
 "metadata": {
  "kernelspec": {
   "display_name": "Python 3 (ipykernel)",
   "language": "python",
   "name": "python3"
  },
  "language_info": {
   "codemirror_mode": {
    "name": "ipython",
    "version": 3
   },
   "file_extension": ".py",
   "mimetype": "text/x-python",
   "name": "python",
   "nbconvert_exporter": "python",
   "pygments_lexer": "ipython3",
   "version": "3.11.4"
  }
 },
 "nbformat": 4,
 "nbformat_minor": 5
}
